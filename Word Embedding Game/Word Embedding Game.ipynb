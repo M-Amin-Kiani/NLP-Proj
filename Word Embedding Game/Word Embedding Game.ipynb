{
  "nbformat": 4,
  "nbformat_minor": 0,
  "metadata": {
    "colab": {
      "provenance": []
    },
    "kernelspec": {
      "name": "python3",
      "display_name": "Python 3"
    },
    "language_info": {
      "name": "python"
    }
  },
  "cells": [
    {
      "cell_type": "code",
      "source": [
        "! pip install gensim"
      ],
      "metadata": {
        "colab": {
          "base_uri": "https://localhost:8080/"
        },
        "id": "ByPxWlncGq0Z",
        "outputId": "5e8a514c-1f73-40a7-b09d-0005fd4f553a"
      },
      "execution_count": null,
      "outputs": [
        {
          "output_type": "stream",
          "name": "stdout",
          "text": [
            "Collecting gensim\n",
            "  Downloading gensim-4.3.3-cp311-cp311-manylinux_2_17_x86_64.manylinux2014_x86_64.whl.metadata (8.1 kB)\n",
            "Collecting numpy<2.0,>=1.18.5 (from gensim)\n",
            "  Downloading numpy-1.26.4-cp311-cp311-manylinux_2_17_x86_64.manylinux2014_x86_64.whl.metadata (61 kB)\n",
            "\u001b[2K     \u001b[90m━━━━━━━━━━━━━━━━━━━━━━━━━━━━━━━━━━━━━━━━\u001b[0m \u001b[32m61.0/61.0 kB\u001b[0m \u001b[31m4.9 MB/s\u001b[0m eta \u001b[36m0:00:00\u001b[0m\n",
            "\u001b[?25hCollecting scipy<1.14.0,>=1.7.0 (from gensim)\n",
            "  Downloading scipy-1.13.1-cp311-cp311-manylinux_2_17_x86_64.manylinux2014_x86_64.whl.metadata (60 kB)\n",
            "\u001b[2K     \u001b[90m━━━━━━━━━━━━━━━━━━━━━━━━━━━━━━━━━━━━━━━━\u001b[0m \u001b[32m60.6/60.6 kB\u001b[0m \u001b[31m4.2 MB/s\u001b[0m eta \u001b[36m0:00:00\u001b[0m\n",
            "\u001b[?25hRequirement already satisfied: smart-open>=1.8.1 in /usr/local/lib/python3.11/dist-packages (from gensim) (7.1.0)\n",
            "Requirement already satisfied: wrapt in /usr/local/lib/python3.11/dist-packages (from smart-open>=1.8.1->gensim) (1.17.2)\n",
            "Downloading gensim-4.3.3-cp311-cp311-manylinux_2_17_x86_64.manylinux2014_x86_64.whl (26.7 MB)\n",
            "\u001b[2K   \u001b[90m━━━━━━━━━━━━━━━━━━━━━━━━━━━━━━━━━━━━━━━━\u001b[0m \u001b[32m26.7/26.7 MB\u001b[0m \u001b[31m58.8 MB/s\u001b[0m eta \u001b[36m0:00:00\u001b[0m\n",
            "\u001b[?25hDownloading numpy-1.26.4-cp311-cp311-manylinux_2_17_x86_64.manylinux2014_x86_64.whl (18.3 MB)\n",
            "\u001b[2K   \u001b[90m━━━━━━━━━━━━━━━━━━━━━━━━━━━━━━━━━━━━━━━━\u001b[0m \u001b[32m18.3/18.3 MB\u001b[0m \u001b[31m70.4 MB/s\u001b[0m eta \u001b[36m0:00:00\u001b[0m\n",
            "\u001b[?25hDownloading scipy-1.13.1-cp311-cp311-manylinux_2_17_x86_64.manylinux2014_x86_64.whl (38.6 MB)\n",
            "\u001b[2K   \u001b[90m━━━━━━━━━━━━━━━━━━━━━━━━━━━━━━━━━━━━━━━━\u001b[0m \u001b[32m38.6/38.6 MB\u001b[0m \u001b[31m13.6 MB/s\u001b[0m eta \u001b[36m0:00:00\u001b[0m\n",
            "\u001b[?25hInstalling collected packages: numpy, scipy, gensim\n",
            "  Attempting uninstall: numpy\n",
            "    Found existing installation: numpy 2.0.2\n",
            "    Uninstalling numpy-2.0.2:\n",
            "      Successfully uninstalled numpy-2.0.2\n",
            "  Attempting uninstall: scipy\n",
            "    Found existing installation: scipy 1.15.3\n",
            "    Uninstalling scipy-1.15.3:\n",
            "      Successfully uninstalled scipy-1.15.3\n",
            "\u001b[31mERROR: pip's dependency resolver does not currently take into account all the packages that are installed. This behaviour is the source of the following dependency conflicts.\n",
            "thinc 8.3.6 requires numpy<3.0.0,>=2.0.0, but you have numpy 1.26.4 which is incompatible.\n",
            "tsfresh 0.21.0 requires scipy>=1.14.0; python_version >= \"3.10\", but you have scipy 1.13.1 which is incompatible.\u001b[0m\u001b[31m\n",
            "\u001b[0mSuccessfully installed gensim-4.3.3 numpy-1.26.4 scipy-1.13.1\n"
          ]
        }
      ]
    },
    {
      "cell_type": "code",
      "source": [
        "!pip uninstall -y gensim numpy\n",
        "!pip install numpy==1.24.3\n",
        "!pip install gensim\n"
      ],
      "metadata": {
        "colab": {
          "base_uri": "https://localhost:8080/",
          "height": 670
        },
        "id": "gbH5cIRLHhRn",
        "outputId": "4df23988-a86f-4014-aad1-35243e988f4b"
      },
      "execution_count": null,
      "outputs": [
        {
          "output_type": "stream",
          "name": "stdout",
          "text": [
            "Found existing installation: gensim 4.3.3\n",
            "Uninstalling gensim-4.3.3:\n",
            "  Successfully uninstalled gensim-4.3.3\n",
            "Found existing installation: numpy 1.26.4\n",
            "Uninstalling numpy-1.26.4:\n",
            "  Successfully uninstalled numpy-1.26.4\n",
            "Collecting numpy==1.24.3\n",
            "  Downloading numpy-1.24.3-cp311-cp311-manylinux_2_17_x86_64.manylinux2014_x86_64.whl.metadata (5.6 kB)\n",
            "Downloading numpy-1.24.3-cp311-cp311-manylinux_2_17_x86_64.manylinux2014_x86_64.whl (17.3 MB)\n",
            "\u001b[2K   \u001b[90m━━━━━━━━━━━━━━━━━━━━━━━━━━━━━━━━━━━━━━━━\u001b[0m \u001b[32m17.3/17.3 MB\u001b[0m \u001b[31m31.7 MB/s\u001b[0m eta \u001b[36m0:00:00\u001b[0m\n",
            "\u001b[?25hInstalling collected packages: numpy\n",
            "\u001b[31mERROR: pip's dependency resolver does not currently take into account all the packages that are installed. This behaviour is the source of the following dependency conflicts.\n",
            "jaxlib 0.5.1 requires numpy>=1.25, but you have numpy 1.24.3 which is incompatible.\n",
            "jax 0.5.2 requires numpy>=1.25, but you have numpy 1.24.3 which is incompatible.\n",
            "tensorflow 2.18.0 requires numpy<2.1.0,>=1.26.0, but you have numpy 1.24.3 which is incompatible.\n",
            "blosc2 3.3.2 requires numpy>=1.26, but you have numpy 1.24.3 which is incompatible.\n",
            "treescope 0.1.9 requires numpy>=1.25.2, but you have numpy 1.24.3 which is incompatible.\n",
            "pymc 5.22.0 requires numpy>=1.25.0, but you have numpy 1.24.3 which is incompatible.\n",
            "thinc 8.3.6 requires numpy<3.0.0,>=2.0.0, but you have numpy 1.24.3 which is incompatible.\n",
            "albumentations 2.0.6 requires numpy>=1.24.4, but you have numpy 1.24.3 which is incompatible.\n",
            "tsfresh 0.21.0 requires scipy>=1.14.0; python_version >= \"3.10\", but you have scipy 1.13.1 which is incompatible.\n",
            "albucore 0.0.24 requires numpy>=1.24.4, but you have numpy 1.24.3 which is incompatible.\u001b[0m\u001b[31m\n",
            "\u001b[0mSuccessfully installed numpy-1.24.3\n"
          ]
        },
        {
          "output_type": "display_data",
          "data": {
            "application/vnd.colab-display-data+json": {
              "pip_warning": {
                "packages": [
                  "numpy"
                ]
              },
              "id": "0939fd19b09f487a829391ffe2b50fdb"
            }
          },
          "metadata": {}
        },
        {
          "output_type": "stream",
          "name": "stdout",
          "text": [
            "Collecting gensim\n",
            "  Using cached gensim-4.3.3-cp311-cp311-manylinux_2_17_x86_64.manylinux2014_x86_64.whl.metadata (8.1 kB)\n",
            "Requirement already satisfied: numpy<2.0,>=1.18.5 in /usr/local/lib/python3.11/dist-packages (from gensim) (1.24.3)\n",
            "Requirement already satisfied: scipy<1.14.0,>=1.7.0 in /usr/local/lib/python3.11/dist-packages (from gensim) (1.13.1)\n",
            "Requirement already satisfied: smart-open>=1.8.1 in /usr/local/lib/python3.11/dist-packages (from gensim) (7.1.0)\n",
            "Requirement already satisfied: wrapt in /usr/local/lib/python3.11/dist-packages (from smart-open>=1.8.1->gensim) (1.17.2)\n",
            "Using cached gensim-4.3.3-cp311-cp311-manylinux_2_17_x86_64.manylinux2014_x86_64.whl (26.7 MB)\n",
            "Installing collected packages: gensim\n",
            "Successfully installed gensim-4.3.3\n"
          ]
        }
      ]
    },
    {
      "cell_type": "code",
      "execution_count": null,
      "metadata": {
        "colab": {
          "base_uri": "https://localhost:8080/"
        },
        "id": "zG0M0yu4GYyx",
        "outputId": "bd7e0136-b74b-4281-9e35-a4694c66ab33"
      },
      "outputs": [
        {
          "output_type": "stream",
          "name": "stdout",
          "text": [
            "Cosine Similarity between 'dog' and 'cat': 0.042373024\n",
            "Cosine Similarity between 'dog' and 'puppy': 0.059370708\n",
            "Gensim similarity (dog vs cat): 0.042373005\n",
            "Gensim similarity (dog vs puppy): 0.05937071\n"
          ]
        }
      ],
      "source": [
        "from gensim.models import Word2Vec\n",
        "from sklearn.metrics.pairwise import cosine_similarity\n",
        "import numpy as np\n",
        "\n",
        "# دیتاست نمونه (هر جمله یک لیست از واژگان)\n",
        "sentences = [\n",
        "    [\"dog\", \"barks\", \"loud\"],\n",
        "    [\"cat\", \"meows\", \"softly\"],\n",
        "    [\"dog\", \"and\", \"cat\", \"are\", \"pets\"],\n",
        "    [\"lion\", \"roars\", \"in\", \"jungle\"],\n",
        "    [\"puppy\", \"is\", \"a\", \"young\", \"dog\"],\n",
        "    [\"kitten\", \"is\", \"a\", \"young\", \"cat\"], ]\n",
        "\n",
        "# آموزش مدل Word2Vec ==> از هم‌رخدادی (co-occurrence) یاد می‌گیره.\n",
        "model = Word2Vec(sentences, vector_size=50, window=2, min_count=1, sg=1)  #sg=1 => skip-gram\n",
        "\n",
        "# گرفتن بردار تعبیه برای یک واژه\n",
        "vec_dog = model.wv[\"dog\"]\n",
        "vec_cat = model.wv[\"cat\"]\n",
        "vec_puppy = model.wv[\"puppy\"]\n",
        "\n",
        "# محاسبه شباهت کسینوسی بین دو واژه\n",
        "sim_dog_cat = cosine_similarity([vec_dog], [vec_cat])[0][0]\n",
        "sim_dog_puppy = cosine_similarity([vec_dog], [vec_puppy])[0][0]\n",
        "\n",
        "print(\"Cosine Similarity between 'dog' and 'cat':\", sim_dog_cat)\n",
        "print(\"Cosine Similarity between 'dog' and 'puppy':\", sim_dog_puppy)\n",
        "\n",
        "# یا از تابع داخلی Gensim:\n",
        "print(\"Gensim similarity (dog vs cat):\", model.wv.similarity(\"dog\", \"cat\"))\n",
        "print(\"Gensim similarity (dog vs puppy):\", model.wv.similarity(\"dog\", \"puppy\"))\n"
      ]
    },
    {
      "cell_type": "code",
      "source": [
        "import gensim.downloader as api\n",
        "model = api.load(\"word2vec-google-news-300\")\n",
        "\n",
        "print(model.similarity(\"dog\", \"puppy\"))\n",
        "print(model.similarity(\"dog\", \"cat\"))\n",
        "print(model.similarity(\"dog\", \"table\"))"
      ],
      "metadata": {
        "colab": {
          "base_uri": "https://localhost:8080/"
        },
        "id": "9cKmEhYqIW4Q",
        "outputId": "7822b9ee-0c26-46e3-ee45-a35668761317"
      },
      "execution_count": null,
      "outputs": [
        {
          "output_type": "stream",
          "name": "stdout",
          "text": [
            "[==================================================] 100.0% 1662.8/1662.8MB downloaded\n",
            "0.81064284\n",
            "0.76094574\n",
            "0.09198968\n"
          ]
        }
      ]
    },
    {
      "cell_type": "markdown",
      "source": [
        "# cc.fa.300.vec.gz — شامل بردارهای ۳۰۰بعدی برای واژگان فارسی"
      ],
      "metadata": {
        "id": "5FIMsCnuIzbY"
      }
    },
    {
      "cell_type": "code",
      "source": [
        "!wget https://dl.fbaipublicfiles.com/fasttext/vectors-crawl/cc.fa.300.vec.gz\n",
        "!gunzip cc.fa.300.vec.gz\n"
      ],
      "metadata": {
        "colab": {
          "base_uri": "https://localhost:8080/"
        },
        "id": "ctm3uGM7IpDQ",
        "outputId": "950667f0-810f-4616-c666-53c8a5e3e46b"
      },
      "execution_count": null,
      "outputs": [
        {
          "output_type": "stream",
          "name": "stdout",
          "text": [
            "--2025-05-22 22:39:28--  https://dl.fbaipublicfiles.com/fasttext/vectors-crawl/cc.fa.300.vec.gz\n",
            "Resolving dl.fbaipublicfiles.com (dl.fbaipublicfiles.com)... 3.163.189.51, 3.163.189.108, 3.163.189.14, ...\n",
            "Connecting to dl.fbaipublicfiles.com (dl.fbaipublicfiles.com)|3.163.189.51|:443... connected.\n",
            "HTTP request sent, awaiting response... 200 OK\n",
            "Length: 1258183862 (1.2G) [binary/octet-stream]\n",
            "Saving to: ‘cc.fa.300.vec.gz’\n",
            "\n",
            "cc.fa.300.vec.gz    100%[===================>]   1.17G  44.4MB/s    in 28s     \n",
            "\n",
            "2025-05-22 22:39:56 (43.3 MB/s) - ‘cc.fa.300.vec.gz’ saved [1258183862/1258183862]\n",
            "\n"
          ]
        }
      ]
    },
    {
      "cell_type": "code",
      "source": [
        "# from gensim.models import KeyedVectors\n",
        "\n",
        "# # بارگذاری مدل\n",
        "# model = KeyedVectors.load_word2vec_format(\"cc.fa.300.vec\", binary=False)\n",
        "\n",
        "# # مثال: محاسبه شباهت بین واژه‌ها\n",
        "# print(\"شباهت سگ و توله‌سگ:\", model.similarity(\"سگ\", \"توله‌سگ\"))\n",
        "# print(\"شباهت سگ و گربه:\", model.similarity(\"سگ\", \"گربه\"))\n",
        "# print(\"شباهت سگ و میز:\", model.similarity(\"سگ\", \"میز\"))\n"
      ],
      "metadata": {
        "id": "oALdt8cpIqvA"
      },
      "execution_count": 20,
      "outputs": []
    },
    {
      "cell_type": "code",
      "source": [
        "from gensim.models import Word2Vec\n",
        "from sklearn.metrics.pairwise import cosine_similarity\n",
        "import numpy as np\n",
        "import random\n",
        "\n",
        "# داده آموزشی تقویت‌شده\n",
        "sentences = [\n",
        "    [\"dog\", \"barks\", \"loud\"],\n",
        "    [\"cat\", \"meows\", \"softly\"],\n",
        "    [\"dog\", \"and\", \"cat\", \"are\", \"pets\"],\n",
        "    [\"lion\", \"roars\", \"in\", \"jungle\"],\n",
        "    [\"puppy\", \"is\", \"a\", \"young\", \"dog\"],\n",
        "    [\"kitten\", \"is\", \"a\", \"young\", \"cat\"],\n",
        "    [\"mouse\", \"squeaks\"],\n",
        "    [\"elephant\", \"is\", \"big\", \"animal\"],\n",
        "    [\"tiger\", \"is\", \"wild\"],\n",
        "    [\"pet\", \"animal\", \"love\", \"friendly\"],\n",
        "    [\"puppy\", \"loves\", \"to\", \"play\", \"with\", \"dog\"],\n",
        "    [\"kitten\", \"plays\", \"with\", \"cat\"],\n",
        "    [\"mouse\", \"runs\", \"from\", \"cat\"],\n",
        "    [\"jungle\", \"has\", \"lion\", \"and\", \"tiger\"]\n",
        "]\n",
        "\n",
        "model = Word2Vec(sentences, vector_size=50, window=2, min_count=1, sg=1, epochs=100)\n",
        "\n",
        "# پارامترها\n",
        "ALPHA = 0.4\n",
        "BETA = 0.5\n",
        "MAX_INVALID_ATTEMPTS = 5\n",
        "\n",
        "# تابع فاصله کسینوسی\n",
        "def cosine_dist(word1, word2):\n",
        "    vec1 = model.wv[word1].reshape(1, -1)\n",
        "    vec2 = model.wv[word2].reshape(1, -1)\n",
        "    return 1 - cosine_similarity(vec1, vec2)[0][0]\n",
        "\n",
        "# انتخاب خاص‌واژگان معتبر\n",
        "vocab = list(model.wv.index_to_key)\n",
        "random.shuffle(vocab)\n",
        "special_words = None\n",
        "for i in range(len(vocab)):\n",
        "    for j in range(i + 1, len(vocab)):\n",
        "        d = cosine_dist(vocab[i], vocab[j])\n",
        "        if ALPHA <= d <= 0.8:  # محدوده منطقی\n",
        "            special_words = [vocab[i], vocab[j]]\n",
        "            break\n",
        "    if special_words:\n",
        "        break\n",
        "\n",
        "print(f\"\\n خاص‌واژگان شروع بازی: {special_words}\\n\")\n",
        "\n",
        "accepted_words = special_words.copy()\n",
        "invalid_attempts = 0\n",
        "\n",
        "# بررسی شرط پایان بازی\n",
        "def all_within_beta(words):\n",
        "    for i in range(len(words)):\n",
        "        for j in range(i + 1, len(words)):\n",
        "            if cosine_dist(words[i], words[j]) >= BETA:\n",
        "                return False\n",
        "    return True\n",
        "\n",
        "# اجرای بازی\n",
        "while True:\n",
        "    user_word = input(\" یک واژه پیشنهاد دهید (یا exit برای خروج): \").strip().lower()\n",
        "\n",
        "    if user_word == \"exit\":\n",
        "        print(\" بازی به خواست کاربر پایان یافت.\")\n",
        "        break\n",
        "\n",
        "    if user_word not in model.wv:\n",
        "        print(\" واژه در مدل وجود ندارد.\")\n",
        "        # پیشنهاد نزدیک‌ترین واژه‌ها\n",
        "        suggestions = model.wv.most_similar(positive=[accepted_words[-1]], topn=3)\n",
        "        print(\" پیشنهادات نزدیک:\", [s[0] for s in suggestions])\n",
        "        invalid_attempts += 1\n",
        "    else:\n",
        "        accepted = False\n",
        "        for w in accepted_words:\n",
        "            if cosine_dist(user_word, w) < BETA:\n",
        "                accepted_words.append(user_word)\n",
        "                print(f\" واژه پذیرفته شد. لیست واژگان: {accepted_words}\")\n",
        "                accepted = True\n",
        "                break\n",
        "\n",
        "        if not accepted:\n",
        "            print(\"واژه پذیرفته نشد.\")\n",
        "            invalid_attempts += 1\n",
        "\n",
        "    if all_within_beta(accepted_words):\n",
        "        print(\"\\n همه واژگان موجود به هم نزدیک‌اند. بازی با موفقیت پایان یافت!\")\n",
        "        break\n",
        "\n",
        "    if invalid_attempts >= MAX_INVALID_ATTEMPTS:\n",
        "        print(\"\\n تعداد تلاش‌های ناموفق زیاد شد. بازی متوقف شد.\")\n",
        "        print(f\" لیست واژگان پذیرفته‌شده: {accepted_words}\")\n",
        "        break\n"
      ],
      "metadata": {
        "id": "3nx5d5rcKHFY",
        "colab": {
          "base_uri": "https://localhost:8080/"
        },
        "outputId": "366eddd4-ebbc-468e-9bc2-47787b1e870b"
      },
      "execution_count": 24,
      "outputs": [
        {
          "output_type": "stream",
          "name": "stdout",
          "text": [
            "\n",
            " خاص‌واژگان شروع بازی: ['kitten', 'wild']\n",
            "\n",
            " یک واژه پیشنهاد دهید (یا exit برای خروج): dog\n",
            "واژه پذیرفته نشد.\n",
            " یک واژه پیشنهاد دهید (یا exit برای خروج): pitty\n",
            " واژه در مدل وجود ندارد.\n",
            " پیشنهادات نزدیک: ['animal', 'pets', 'cat']\n",
            " یک واژه پیشنهاد دهید (یا exit برای خروج): animal\n",
            " واژه پذیرفته شد. لیست واژگان: ['kitten', 'wild', 'animal']\n",
            " یک واژه پیشنهاد دهید (یا exit برای خروج): cat\n",
            "واژه پذیرفته نشد.\n",
            " یک واژه پیشنهاد دهید (یا exit برای خروج): mouse\n",
            "واژه پذیرفته نشد.\n",
            " یک واژه پیشنهاد دهید (یا exit برای خروج): apply\n",
            " واژه در مدل وجود ندارد.\n",
            " پیشنهادات نزدیک: ['wild', 'pets', 'barks']\n",
            "\n",
            " تعداد تلاش‌های ناموفق زیاد شد. بازی متوقف شد.\n",
            " لیست واژگان پذیرفته‌شده: ['kitten', 'wild', 'animal']\n"
          ]
        }
      ]
    }
  ]
}